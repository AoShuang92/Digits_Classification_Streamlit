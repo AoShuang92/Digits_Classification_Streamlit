{
  "nbformat": 4,
  "nbformat_minor": 0,
  "metadata": {
    "colab": {
      "name": "MNIST_SlimAlexNet.ipynb",
      "provenance": []
    },
    "kernelspec": {
      "name": "python3",
      "display_name": "Python 3"
    },
    "accelerator": "GPU",
    "widgets": {
      "application/vnd.jupyter.widget-state+json": {
        "b912f2fe655d4e3b8b6bfbe9b622f978": {
          "model_module": "@jupyter-widgets/controls",
          "model_name": "HBoxModel",
          "state": {
            "_view_name": "HBoxView",
            "_dom_classes": [],
            "_model_name": "HBoxModel",
            "_view_module": "@jupyter-widgets/controls",
            "_model_module_version": "1.5.0",
            "_view_count": null,
            "_view_module_version": "1.5.0",
            "box_style": "",
            "layout": "IPY_MODEL_cac3ac5431df4af690876e84d1913ae5",
            "_model_module": "@jupyter-widgets/controls",
            "children": [
              "IPY_MODEL_2f385b44c3a747a386bf388e2c39cad7",
              "IPY_MODEL_ab78a7648bb04984ae5509284d1893f6"
            ]
          }
        },
        "cac3ac5431df4af690876e84d1913ae5": {
          "model_module": "@jupyter-widgets/base",
          "model_name": "LayoutModel",
          "state": {
            "_view_name": "LayoutView",
            "grid_template_rows": null,
            "right": null,
            "justify_content": null,
            "_view_module": "@jupyter-widgets/base",
            "overflow": null,
            "_model_module_version": "1.2.0",
            "_view_count": null,
            "flex_flow": null,
            "width": null,
            "min_width": null,
            "border": null,
            "align_items": null,
            "bottom": null,
            "_model_module": "@jupyter-widgets/base",
            "top": null,
            "grid_column": null,
            "overflow_y": null,
            "overflow_x": null,
            "grid_auto_flow": null,
            "grid_area": null,
            "grid_template_columns": null,
            "flex": null,
            "_model_name": "LayoutModel",
            "justify_items": null,
            "grid_row": null,
            "max_height": null,
            "align_content": null,
            "visibility": null,
            "align_self": null,
            "height": null,
            "min_height": null,
            "padding": null,
            "grid_auto_rows": null,
            "grid_gap": null,
            "max_width": null,
            "order": null,
            "_view_module_version": "1.2.0",
            "grid_template_areas": null,
            "object_position": null,
            "object_fit": null,
            "grid_auto_columns": null,
            "margin": null,
            "display": null,
            "left": null
          }
        },
        "2f385b44c3a747a386bf388e2c39cad7": {
          "model_module": "@jupyter-widgets/controls",
          "model_name": "FloatProgressModel",
          "state": {
            "_view_name": "ProgressView",
            "style": "IPY_MODEL_5a5da935133a4cf09f990f6f578cc03f",
            "_dom_classes": [],
            "description": "",
            "_model_name": "FloatProgressModel",
            "bar_style": "info",
            "max": 1,
            "_view_module": "@jupyter-widgets/controls",
            "_model_module_version": "1.5.0",
            "value": 1,
            "_view_count": null,
            "_view_module_version": "1.5.0",
            "orientation": "horizontal",
            "min": 0,
            "description_tooltip": null,
            "_model_module": "@jupyter-widgets/controls",
            "layout": "IPY_MODEL_bbadc15719e449dca83a1450f49bd878"
          }
        },
        "ab78a7648bb04984ae5509284d1893f6": {
          "model_module": "@jupyter-widgets/controls",
          "model_name": "HTMLModel",
          "state": {
            "_view_name": "HTMLView",
            "style": "IPY_MODEL_3ea4bcd9f86649ad97b51cd6e7d417ab",
            "_dom_classes": [],
            "description": "",
            "_model_name": "HTMLModel",
            "placeholder": "​",
            "_view_module": "@jupyter-widgets/controls",
            "_model_module_version": "1.5.0",
            "value": " 9920512/? [00:20&lt;00:00, 1003352.42it/s]",
            "_view_count": null,
            "_view_module_version": "1.5.0",
            "description_tooltip": null,
            "_model_module": "@jupyter-widgets/controls",
            "layout": "IPY_MODEL_0adf8856a98844728bf1a6e1db6381a4"
          }
        },
        "5a5da935133a4cf09f990f6f578cc03f": {
          "model_module": "@jupyter-widgets/controls",
          "model_name": "ProgressStyleModel",
          "state": {
            "_view_name": "StyleView",
            "_model_name": "ProgressStyleModel",
            "description_width": "initial",
            "_view_module": "@jupyter-widgets/base",
            "_model_module_version": "1.5.0",
            "_view_count": null,
            "_view_module_version": "1.2.0",
            "bar_color": null,
            "_model_module": "@jupyter-widgets/controls"
          }
        },
        "bbadc15719e449dca83a1450f49bd878": {
          "model_module": "@jupyter-widgets/base",
          "model_name": "LayoutModel",
          "state": {
            "_view_name": "LayoutView",
            "grid_template_rows": null,
            "right": null,
            "justify_content": null,
            "_view_module": "@jupyter-widgets/base",
            "overflow": null,
            "_model_module_version": "1.2.0",
            "_view_count": null,
            "flex_flow": null,
            "width": null,
            "min_width": null,
            "border": null,
            "align_items": null,
            "bottom": null,
            "_model_module": "@jupyter-widgets/base",
            "top": null,
            "grid_column": null,
            "overflow_y": null,
            "overflow_x": null,
            "grid_auto_flow": null,
            "grid_area": null,
            "grid_template_columns": null,
            "flex": null,
            "_model_name": "LayoutModel",
            "justify_items": null,
            "grid_row": null,
            "max_height": null,
            "align_content": null,
            "visibility": null,
            "align_self": null,
            "height": null,
            "min_height": null,
            "padding": null,
            "grid_auto_rows": null,
            "grid_gap": null,
            "max_width": null,
            "order": null,
            "_view_module_version": "1.2.0",
            "grid_template_areas": null,
            "object_position": null,
            "object_fit": null,
            "grid_auto_columns": null,
            "margin": null,
            "display": null,
            "left": null
          }
        },
        "3ea4bcd9f86649ad97b51cd6e7d417ab": {
          "model_module": "@jupyter-widgets/controls",
          "model_name": "DescriptionStyleModel",
          "state": {
            "_view_name": "StyleView",
            "_model_name": "DescriptionStyleModel",
            "description_width": "",
            "_view_module": "@jupyter-widgets/base",
            "_model_module_version": "1.5.0",
            "_view_count": null,
            "_view_module_version": "1.2.0",
            "_model_module": "@jupyter-widgets/controls"
          }
        },
        "0adf8856a98844728bf1a6e1db6381a4": {
          "model_module": "@jupyter-widgets/base",
          "model_name": "LayoutModel",
          "state": {
            "_view_name": "LayoutView",
            "grid_template_rows": null,
            "right": null,
            "justify_content": null,
            "_view_module": "@jupyter-widgets/base",
            "overflow": null,
            "_model_module_version": "1.2.0",
            "_view_count": null,
            "flex_flow": null,
            "width": null,
            "min_width": null,
            "border": null,
            "align_items": null,
            "bottom": null,
            "_model_module": "@jupyter-widgets/base",
            "top": null,
            "grid_column": null,
            "overflow_y": null,
            "overflow_x": null,
            "grid_auto_flow": null,
            "grid_area": null,
            "grid_template_columns": null,
            "flex": null,
            "_model_name": "LayoutModel",
            "justify_items": null,
            "grid_row": null,
            "max_height": null,
            "align_content": null,
            "visibility": null,
            "align_self": null,
            "height": null,
            "min_height": null,
            "padding": null,
            "grid_auto_rows": null,
            "grid_gap": null,
            "max_width": null,
            "order": null,
            "_view_module_version": "1.2.0",
            "grid_template_areas": null,
            "object_position": null,
            "object_fit": null,
            "grid_auto_columns": null,
            "margin": null,
            "display": null,
            "left": null
          }
        },
        "42112ccb73ef4b0f8755ab65db0e5f79": {
          "model_module": "@jupyter-widgets/controls",
          "model_name": "HBoxModel",
          "state": {
            "_view_name": "HBoxView",
            "_dom_classes": [],
            "_model_name": "HBoxModel",
            "_view_module": "@jupyter-widgets/controls",
            "_model_module_version": "1.5.0",
            "_view_count": null,
            "_view_module_version": "1.5.0",
            "box_style": "",
            "layout": "IPY_MODEL_f099eaaa64a14d15b69a2e925b244f27",
            "_model_module": "@jupyter-widgets/controls",
            "children": [
              "IPY_MODEL_cb389bf15e6942b8963b04f2a72ab448",
              "IPY_MODEL_08fc9cad72e84fdbb7b21c86d6043b71"
            ]
          }
        },
        "f099eaaa64a14d15b69a2e925b244f27": {
          "model_module": "@jupyter-widgets/base",
          "model_name": "LayoutModel",
          "state": {
            "_view_name": "LayoutView",
            "grid_template_rows": null,
            "right": null,
            "justify_content": null,
            "_view_module": "@jupyter-widgets/base",
            "overflow": null,
            "_model_module_version": "1.2.0",
            "_view_count": null,
            "flex_flow": null,
            "width": null,
            "min_width": null,
            "border": null,
            "align_items": null,
            "bottom": null,
            "_model_module": "@jupyter-widgets/base",
            "top": null,
            "grid_column": null,
            "overflow_y": null,
            "overflow_x": null,
            "grid_auto_flow": null,
            "grid_area": null,
            "grid_template_columns": null,
            "flex": null,
            "_model_name": "LayoutModel",
            "justify_items": null,
            "grid_row": null,
            "max_height": null,
            "align_content": null,
            "visibility": null,
            "align_self": null,
            "height": null,
            "min_height": null,
            "padding": null,
            "grid_auto_rows": null,
            "grid_gap": null,
            "max_width": null,
            "order": null,
            "_view_module_version": "1.2.0",
            "grid_template_areas": null,
            "object_position": null,
            "object_fit": null,
            "grid_auto_columns": null,
            "margin": null,
            "display": null,
            "left": null
          }
        },
        "cb389bf15e6942b8963b04f2a72ab448": {
          "model_module": "@jupyter-widgets/controls",
          "model_name": "FloatProgressModel",
          "state": {
            "_view_name": "ProgressView",
            "style": "IPY_MODEL_c22a4c68d11b486f8c0a28a901098ecb",
            "_dom_classes": [],
            "description": "",
            "_model_name": "FloatProgressModel",
            "bar_style": "success",
            "max": 1,
            "_view_module": "@jupyter-widgets/controls",
            "_model_module_version": "1.5.0",
            "value": 1,
            "_view_count": null,
            "_view_module_version": "1.5.0",
            "orientation": "horizontal",
            "min": 0,
            "description_tooltip": null,
            "_model_module": "@jupyter-widgets/controls",
            "layout": "IPY_MODEL_bdb216417cab422fab4caeff72f9b858"
          }
        },
        "08fc9cad72e84fdbb7b21c86d6043b71": {
          "model_module": "@jupyter-widgets/controls",
          "model_name": "HTMLModel",
          "state": {
            "_view_name": "HTMLView",
            "style": "IPY_MODEL_ad08360888c54274bff7cc2ecc837bee",
            "_dom_classes": [],
            "description": "",
            "_model_name": "HTMLModel",
            "placeholder": "​",
            "_view_module": "@jupyter-widgets/controls",
            "_model_module_version": "1.5.0",
            "value": " 32768/? [00:07&lt;00:00, 4678.07it/s]",
            "_view_count": null,
            "_view_module_version": "1.5.0",
            "description_tooltip": null,
            "_model_module": "@jupyter-widgets/controls",
            "layout": "IPY_MODEL_817b77810be442de9248c82067253c6b"
          }
        },
        "c22a4c68d11b486f8c0a28a901098ecb": {
          "model_module": "@jupyter-widgets/controls",
          "model_name": "ProgressStyleModel",
          "state": {
            "_view_name": "StyleView",
            "_model_name": "ProgressStyleModel",
            "description_width": "initial",
            "_view_module": "@jupyter-widgets/base",
            "_model_module_version": "1.5.0",
            "_view_count": null,
            "_view_module_version": "1.2.0",
            "bar_color": null,
            "_model_module": "@jupyter-widgets/controls"
          }
        },
        "bdb216417cab422fab4caeff72f9b858": {
          "model_module": "@jupyter-widgets/base",
          "model_name": "LayoutModel",
          "state": {
            "_view_name": "LayoutView",
            "grid_template_rows": null,
            "right": null,
            "justify_content": null,
            "_view_module": "@jupyter-widgets/base",
            "overflow": null,
            "_model_module_version": "1.2.0",
            "_view_count": null,
            "flex_flow": null,
            "width": null,
            "min_width": null,
            "border": null,
            "align_items": null,
            "bottom": null,
            "_model_module": "@jupyter-widgets/base",
            "top": null,
            "grid_column": null,
            "overflow_y": null,
            "overflow_x": null,
            "grid_auto_flow": null,
            "grid_area": null,
            "grid_template_columns": null,
            "flex": null,
            "_model_name": "LayoutModel",
            "justify_items": null,
            "grid_row": null,
            "max_height": null,
            "align_content": null,
            "visibility": null,
            "align_self": null,
            "height": null,
            "min_height": null,
            "padding": null,
            "grid_auto_rows": null,
            "grid_gap": null,
            "max_width": null,
            "order": null,
            "_view_module_version": "1.2.0",
            "grid_template_areas": null,
            "object_position": null,
            "object_fit": null,
            "grid_auto_columns": null,
            "margin": null,
            "display": null,
            "left": null
          }
        },
        "ad08360888c54274bff7cc2ecc837bee": {
          "model_module": "@jupyter-widgets/controls",
          "model_name": "DescriptionStyleModel",
          "state": {
            "_view_name": "StyleView",
            "_model_name": "DescriptionStyleModel",
            "description_width": "",
            "_view_module": "@jupyter-widgets/base",
            "_model_module_version": "1.5.0",
            "_view_count": null,
            "_view_module_version": "1.2.0",
            "_model_module": "@jupyter-widgets/controls"
          }
        },
        "817b77810be442de9248c82067253c6b": {
          "model_module": "@jupyter-widgets/base",
          "model_name": "LayoutModel",
          "state": {
            "_view_name": "LayoutView",
            "grid_template_rows": null,
            "right": null,
            "justify_content": null,
            "_view_module": "@jupyter-widgets/base",
            "overflow": null,
            "_model_module_version": "1.2.0",
            "_view_count": null,
            "flex_flow": null,
            "width": null,
            "min_width": null,
            "border": null,
            "align_items": null,
            "bottom": null,
            "_model_module": "@jupyter-widgets/base",
            "top": null,
            "grid_column": null,
            "overflow_y": null,
            "overflow_x": null,
            "grid_auto_flow": null,
            "grid_area": null,
            "grid_template_columns": null,
            "flex": null,
            "_model_name": "LayoutModel",
            "justify_items": null,
            "grid_row": null,
            "max_height": null,
            "align_content": null,
            "visibility": null,
            "align_self": null,
            "height": null,
            "min_height": null,
            "padding": null,
            "grid_auto_rows": null,
            "grid_gap": null,
            "max_width": null,
            "order": null,
            "_view_module_version": "1.2.0",
            "grid_template_areas": null,
            "object_position": null,
            "object_fit": null,
            "grid_auto_columns": null,
            "margin": null,
            "display": null,
            "left": null
          }
        },
        "83f180d7d3784b11b00a949a8cb029c2": {
          "model_module": "@jupyter-widgets/controls",
          "model_name": "HBoxModel",
          "state": {
            "_view_name": "HBoxView",
            "_dom_classes": [],
            "_model_name": "HBoxModel",
            "_view_module": "@jupyter-widgets/controls",
            "_model_module_version": "1.5.0",
            "_view_count": null,
            "_view_module_version": "1.5.0",
            "box_style": "",
            "layout": "IPY_MODEL_869744d015fe4b38a5f03098da3c8062",
            "_model_module": "@jupyter-widgets/controls",
            "children": [
              "IPY_MODEL_2f6bf4c44ed84052b3b9a953657015a5",
              "IPY_MODEL_229814b068d84057b38dd264dfed3c85"
            ]
          }
        },
        "869744d015fe4b38a5f03098da3c8062": {
          "model_module": "@jupyter-widgets/base",
          "model_name": "LayoutModel",
          "state": {
            "_view_name": "LayoutView",
            "grid_template_rows": null,
            "right": null,
            "justify_content": null,
            "_view_module": "@jupyter-widgets/base",
            "overflow": null,
            "_model_module_version": "1.2.0",
            "_view_count": null,
            "flex_flow": null,
            "width": null,
            "min_width": null,
            "border": null,
            "align_items": null,
            "bottom": null,
            "_model_module": "@jupyter-widgets/base",
            "top": null,
            "grid_column": null,
            "overflow_y": null,
            "overflow_x": null,
            "grid_auto_flow": null,
            "grid_area": null,
            "grid_template_columns": null,
            "flex": null,
            "_model_name": "LayoutModel",
            "justify_items": null,
            "grid_row": null,
            "max_height": null,
            "align_content": null,
            "visibility": null,
            "align_self": null,
            "height": null,
            "min_height": null,
            "padding": null,
            "grid_auto_rows": null,
            "grid_gap": null,
            "max_width": null,
            "order": null,
            "_view_module_version": "1.2.0",
            "grid_template_areas": null,
            "object_position": null,
            "object_fit": null,
            "grid_auto_columns": null,
            "margin": null,
            "display": null,
            "left": null
          }
        },
        "2f6bf4c44ed84052b3b9a953657015a5": {
          "model_module": "@jupyter-widgets/controls",
          "model_name": "FloatProgressModel",
          "state": {
            "_view_name": "ProgressView",
            "style": "IPY_MODEL_3fc9c03d54ed4a7894ccaec9f9ecc14b",
            "_dom_classes": [],
            "description": "",
            "_model_name": "FloatProgressModel",
            "bar_style": "success",
            "max": 1,
            "_view_module": "@jupyter-widgets/controls",
            "_model_module_version": "1.5.0",
            "value": 1,
            "_view_count": null,
            "_view_module_version": "1.5.0",
            "orientation": "horizontal",
            "min": 0,
            "description_tooltip": null,
            "_model_module": "@jupyter-widgets/controls",
            "layout": "IPY_MODEL_72be09ccb85048eab5b9b9120fb5cb21"
          }
        },
        "229814b068d84057b38dd264dfed3c85": {
          "model_module": "@jupyter-widgets/controls",
          "model_name": "HTMLModel",
          "state": {
            "_view_name": "HTMLView",
            "style": "IPY_MODEL_d8a6b2f6343f4f329f2776143fdea714",
            "_dom_classes": [],
            "description": "",
            "_model_name": "HTMLModel",
            "placeholder": "​",
            "_view_module": "@jupyter-widgets/controls",
            "_model_module_version": "1.5.0",
            "value": " 1654784/? [00:06&lt;00:00, 247184.76it/s]",
            "_view_count": null,
            "_view_module_version": "1.5.0",
            "description_tooltip": null,
            "_model_module": "@jupyter-widgets/controls",
            "layout": "IPY_MODEL_dbe47586b55541db9c51f33b8d3775d5"
          }
        },
        "3fc9c03d54ed4a7894ccaec9f9ecc14b": {
          "model_module": "@jupyter-widgets/controls",
          "model_name": "ProgressStyleModel",
          "state": {
            "_view_name": "StyleView",
            "_model_name": "ProgressStyleModel",
            "description_width": "initial",
            "_view_module": "@jupyter-widgets/base",
            "_model_module_version": "1.5.0",
            "_view_count": null,
            "_view_module_version": "1.2.0",
            "bar_color": null,
            "_model_module": "@jupyter-widgets/controls"
          }
        },
        "72be09ccb85048eab5b9b9120fb5cb21": {
          "model_module": "@jupyter-widgets/base",
          "model_name": "LayoutModel",
          "state": {
            "_view_name": "LayoutView",
            "grid_template_rows": null,
            "right": null,
            "justify_content": null,
            "_view_module": "@jupyter-widgets/base",
            "overflow": null,
            "_model_module_version": "1.2.0",
            "_view_count": null,
            "flex_flow": null,
            "width": null,
            "min_width": null,
            "border": null,
            "align_items": null,
            "bottom": null,
            "_model_module": "@jupyter-widgets/base",
            "top": null,
            "grid_column": null,
            "overflow_y": null,
            "overflow_x": null,
            "grid_auto_flow": null,
            "grid_area": null,
            "grid_template_columns": null,
            "flex": null,
            "_model_name": "LayoutModel",
            "justify_items": null,
            "grid_row": null,
            "max_height": null,
            "align_content": null,
            "visibility": null,
            "align_self": null,
            "height": null,
            "min_height": null,
            "padding": null,
            "grid_auto_rows": null,
            "grid_gap": null,
            "max_width": null,
            "order": null,
            "_view_module_version": "1.2.0",
            "grid_template_areas": null,
            "object_position": null,
            "object_fit": null,
            "grid_auto_columns": null,
            "margin": null,
            "display": null,
            "left": null
          }
        },
        "d8a6b2f6343f4f329f2776143fdea714": {
          "model_module": "@jupyter-widgets/controls",
          "model_name": "DescriptionStyleModel",
          "state": {
            "_view_name": "StyleView",
            "_model_name": "DescriptionStyleModel",
            "description_width": "",
            "_view_module": "@jupyter-widgets/base",
            "_model_module_version": "1.5.0",
            "_view_count": null,
            "_view_module_version": "1.2.0",
            "_model_module": "@jupyter-widgets/controls"
          }
        },
        "dbe47586b55541db9c51f33b8d3775d5": {
          "model_module": "@jupyter-widgets/base",
          "model_name": "LayoutModel",
          "state": {
            "_view_name": "LayoutView",
            "grid_template_rows": null,
            "right": null,
            "justify_content": null,
            "_view_module": "@jupyter-widgets/base",
            "overflow": null,
            "_model_module_version": "1.2.0",
            "_view_count": null,
            "flex_flow": null,
            "width": null,
            "min_width": null,
            "border": null,
            "align_items": null,
            "bottom": null,
            "_model_module": "@jupyter-widgets/base",
            "top": null,
            "grid_column": null,
            "overflow_y": null,
            "overflow_x": null,
            "grid_auto_flow": null,
            "grid_area": null,
            "grid_template_columns": null,
            "flex": null,
            "_model_name": "LayoutModel",
            "justify_items": null,
            "grid_row": null,
            "max_height": null,
            "align_content": null,
            "visibility": null,
            "align_self": null,
            "height": null,
            "min_height": null,
            "padding": null,
            "grid_auto_rows": null,
            "grid_gap": null,
            "max_width": null,
            "order": null,
            "_view_module_version": "1.2.0",
            "grid_template_areas": null,
            "object_position": null,
            "object_fit": null,
            "grid_auto_columns": null,
            "margin": null,
            "display": null,
            "left": null
          }
        },
        "d8748a492dbd476fb240ed1af44f4e70": {
          "model_module": "@jupyter-widgets/controls",
          "model_name": "HBoxModel",
          "state": {
            "_view_name": "HBoxView",
            "_dom_classes": [],
            "_model_name": "HBoxModel",
            "_view_module": "@jupyter-widgets/controls",
            "_model_module_version": "1.5.0",
            "_view_count": null,
            "_view_module_version": "1.5.0",
            "box_style": "",
            "layout": "IPY_MODEL_29d8bfffa445433e97b5c0ff77c8a7cc",
            "_model_module": "@jupyter-widgets/controls",
            "children": [
              "IPY_MODEL_484928940fd54870a1e77daf4f79e703",
              "IPY_MODEL_6441fe562738423388bc769edd3193b7"
            ]
          }
        },
        "29d8bfffa445433e97b5c0ff77c8a7cc": {
          "model_module": "@jupyter-widgets/base",
          "model_name": "LayoutModel",
          "state": {
            "_view_name": "LayoutView",
            "grid_template_rows": null,
            "right": null,
            "justify_content": null,
            "_view_module": "@jupyter-widgets/base",
            "overflow": null,
            "_model_module_version": "1.2.0",
            "_view_count": null,
            "flex_flow": null,
            "width": null,
            "min_width": null,
            "border": null,
            "align_items": null,
            "bottom": null,
            "_model_module": "@jupyter-widgets/base",
            "top": null,
            "grid_column": null,
            "overflow_y": null,
            "overflow_x": null,
            "grid_auto_flow": null,
            "grid_area": null,
            "grid_template_columns": null,
            "flex": null,
            "_model_name": "LayoutModel",
            "justify_items": null,
            "grid_row": null,
            "max_height": null,
            "align_content": null,
            "visibility": null,
            "align_self": null,
            "height": null,
            "min_height": null,
            "padding": null,
            "grid_auto_rows": null,
            "grid_gap": null,
            "max_width": null,
            "order": null,
            "_view_module_version": "1.2.0",
            "grid_template_areas": null,
            "object_position": null,
            "object_fit": null,
            "grid_auto_columns": null,
            "margin": null,
            "display": null,
            "left": null
          }
        },
        "484928940fd54870a1e77daf4f79e703": {
          "model_module": "@jupyter-widgets/controls",
          "model_name": "FloatProgressModel",
          "state": {
            "_view_name": "ProgressView",
            "style": "IPY_MODEL_353bc39b50b547ad84fd1f41cdc0819d",
            "_dom_classes": [],
            "description": "",
            "_model_name": "FloatProgressModel",
            "bar_style": "success",
            "max": 1,
            "_view_module": "@jupyter-widgets/controls",
            "_model_module_version": "1.5.0",
            "value": 1,
            "_view_count": null,
            "_view_module_version": "1.5.0",
            "orientation": "horizontal",
            "min": 0,
            "description_tooltip": null,
            "_model_module": "@jupyter-widgets/controls",
            "layout": "IPY_MODEL_f3a6222b387e46278fea00512e4617e5"
          }
        },
        "6441fe562738423388bc769edd3193b7": {
          "model_module": "@jupyter-widgets/controls",
          "model_name": "HTMLModel",
          "state": {
            "_view_name": "HTMLView",
            "style": "IPY_MODEL_75566eb5b7cd43a289721e70f2f0ba89",
            "_dom_classes": [],
            "description": "",
            "_model_name": "HTMLModel",
            "placeholder": "​",
            "_view_module": "@jupyter-widgets/controls",
            "_model_module_version": "1.5.0",
            "value": " 8192/? [00:05&lt;00:00, 1398.45it/s]",
            "_view_count": null,
            "_view_module_version": "1.5.0",
            "description_tooltip": null,
            "_model_module": "@jupyter-widgets/controls",
            "layout": "IPY_MODEL_ed453b81544745c3a50e89d80618560d"
          }
        },
        "353bc39b50b547ad84fd1f41cdc0819d": {
          "model_module": "@jupyter-widgets/controls",
          "model_name": "ProgressStyleModel",
          "state": {
            "_view_name": "StyleView",
            "_model_name": "ProgressStyleModel",
            "description_width": "initial",
            "_view_module": "@jupyter-widgets/base",
            "_model_module_version": "1.5.0",
            "_view_count": null,
            "_view_module_version": "1.2.0",
            "bar_color": null,
            "_model_module": "@jupyter-widgets/controls"
          }
        },
        "f3a6222b387e46278fea00512e4617e5": {
          "model_module": "@jupyter-widgets/base",
          "model_name": "LayoutModel",
          "state": {
            "_view_name": "LayoutView",
            "grid_template_rows": null,
            "right": null,
            "justify_content": null,
            "_view_module": "@jupyter-widgets/base",
            "overflow": null,
            "_model_module_version": "1.2.0",
            "_view_count": null,
            "flex_flow": null,
            "width": null,
            "min_width": null,
            "border": null,
            "align_items": null,
            "bottom": null,
            "_model_module": "@jupyter-widgets/base",
            "top": null,
            "grid_column": null,
            "overflow_y": null,
            "overflow_x": null,
            "grid_auto_flow": null,
            "grid_area": null,
            "grid_template_columns": null,
            "flex": null,
            "_model_name": "LayoutModel",
            "justify_items": null,
            "grid_row": null,
            "max_height": null,
            "align_content": null,
            "visibility": null,
            "align_self": null,
            "height": null,
            "min_height": null,
            "padding": null,
            "grid_auto_rows": null,
            "grid_gap": null,
            "max_width": null,
            "order": null,
            "_view_module_version": "1.2.0",
            "grid_template_areas": null,
            "object_position": null,
            "object_fit": null,
            "grid_auto_columns": null,
            "margin": null,
            "display": null,
            "left": null
          }
        },
        "75566eb5b7cd43a289721e70f2f0ba89": {
          "model_module": "@jupyter-widgets/controls",
          "model_name": "DescriptionStyleModel",
          "state": {
            "_view_name": "StyleView",
            "_model_name": "DescriptionStyleModel",
            "description_width": "",
            "_view_module": "@jupyter-widgets/base",
            "_model_module_version": "1.5.0",
            "_view_count": null,
            "_view_module_version": "1.2.0",
            "_model_module": "@jupyter-widgets/controls"
          }
        },
        "ed453b81544745c3a50e89d80618560d": {
          "model_module": "@jupyter-widgets/base",
          "model_name": "LayoutModel",
          "state": {
            "_view_name": "LayoutView",
            "grid_template_rows": null,
            "right": null,
            "justify_content": null,
            "_view_module": "@jupyter-widgets/base",
            "overflow": null,
            "_model_module_version": "1.2.0",
            "_view_count": null,
            "flex_flow": null,
            "width": null,
            "min_width": null,
            "border": null,
            "align_items": null,
            "bottom": null,
            "_model_module": "@jupyter-widgets/base",
            "top": null,
            "grid_column": null,
            "overflow_y": null,
            "overflow_x": null,
            "grid_auto_flow": null,
            "grid_area": null,
            "grid_template_columns": null,
            "flex": null,
            "_model_name": "LayoutModel",
            "justify_items": null,
            "grid_row": null,
            "max_height": null,
            "align_content": null,
            "visibility": null,
            "align_self": null,
            "height": null,
            "min_height": null,
            "padding": null,
            "grid_auto_rows": null,
            "grid_gap": null,
            "max_width": null,
            "order": null,
            "_view_module_version": "1.2.0",
            "grid_template_areas": null,
            "object_position": null,
            "object_fit": null,
            "grid_auto_columns": null,
            "margin": null,
            "display": null,
            "left": null
          }
        }
      }
    }
  },
  "cells": [
    {
      "cell_type": "code",
      "metadata": {
        "id": "JHf6c1tOie31",
        "colab_type": "code",
        "colab": {}
      },
      "source": [
        "import torch\n",
        "import matplotlib.pyplot as plt\n",
        "import numpy as np\n",
        "import torchvision\n",
        "import torch.nn as nn\n",
        "import torchvision.transforms as transforms\n",
        "import sklearn.metrics"
      ],
      "execution_count": 1,
      "outputs": []
    },
    {
      "cell_type": "code",
      "metadata": {
        "id": "ajVOd3Klk5UE",
        "colab_type": "code",
        "colab": {}
      },
      "source": [
        "class SlimAlexNet(nn.Module):\n",
        "    def __init__(self, num_classes=10):\n",
        "        super().__init__()\n",
        "        self.features = nn.Sequential(\n",
        "            nn.Conv2d(1,32,kernel_size = 3, stride =1),\n",
        "            nn.ReLU(inplace = True),\n",
        "            nn.MaxPool2d(kernel_size =3, stride = 2),\n",
        "            nn.Conv2d(32,64,kernel_size = 3),\n",
        "            nn.ReLU(inplace = True),\n",
        "            nn.MaxPool2d(kernel_size =3, stride = 2),\n",
        "            nn.Conv2d(64,128,kernel_size = 3, padding =1),\n",
        "            nn.ReLU(inplace = True),\n",
        "            nn.Conv2d(128,256,kernel_size = 3, padding =1),\n",
        "            nn.ReLU(inplace = True),\n",
        "            nn.Conv2d(256,128,kernel_size = 3, padding =1),\n",
        "            nn.ReLU(inplace = True),\n",
        "            nn.MaxPool2d(kernel_size =3, stride = 2),\n",
        "            )\n",
        "        self.classifier = nn.Sequential(\n",
        "            nn.Dropout(),\n",
        "            nn.Linear(128,1024),\n",
        "            nn.ReLU(inplace= True),\n",
        "            nn.Dropout(),\n",
        "            nn.Linear(1024,1024),\n",
        "            nn.ReLU(inplace= True),\n",
        "            nn.Linear(1024,num_classes)\n",
        "            )\n",
        "    def forward(self,x):\n",
        "        x = self.features(x)\n",
        "        x = x.flatten(start_dim=1)\n",
        "        x = self.classifier(x)\n",
        "        return x "
      ],
      "execution_count": 2,
      "outputs": []
    },
    {
      "cell_type": "code",
      "metadata": {
        "id": "JWzAMwWOpFeE",
        "colab_type": "code",
        "colab": {
          "base_uri": "https://localhost:8080/",
          "height": 356,
          "referenced_widgets": [
            "b912f2fe655d4e3b8b6bfbe9b622f978",
            "cac3ac5431df4af690876e84d1913ae5",
            "2f385b44c3a747a386bf388e2c39cad7",
            "ab78a7648bb04984ae5509284d1893f6",
            "5a5da935133a4cf09f990f6f578cc03f",
            "bbadc15719e449dca83a1450f49bd878",
            "3ea4bcd9f86649ad97b51cd6e7d417ab",
            "0adf8856a98844728bf1a6e1db6381a4",
            "42112ccb73ef4b0f8755ab65db0e5f79",
            "f099eaaa64a14d15b69a2e925b244f27",
            "cb389bf15e6942b8963b04f2a72ab448",
            "08fc9cad72e84fdbb7b21c86d6043b71",
            "c22a4c68d11b486f8c0a28a901098ecb",
            "bdb216417cab422fab4caeff72f9b858",
            "ad08360888c54274bff7cc2ecc837bee",
            "817b77810be442de9248c82067253c6b",
            "83f180d7d3784b11b00a949a8cb029c2",
            "869744d015fe4b38a5f03098da3c8062",
            "2f6bf4c44ed84052b3b9a953657015a5",
            "229814b068d84057b38dd264dfed3c85",
            "3fc9c03d54ed4a7894ccaec9f9ecc14b",
            "72be09ccb85048eab5b9b9120fb5cb21",
            "d8a6b2f6343f4f329f2776143fdea714",
            "dbe47586b55541db9c51f33b8d3775d5",
            "d8748a492dbd476fb240ed1af44f4e70",
            "29d8bfffa445433e97b5c0ff77c8a7cc",
            "484928940fd54870a1e77daf4f79e703",
            "6441fe562738423388bc769edd3193b7",
            "353bc39b50b547ad84fd1f41cdc0819d",
            "f3a6222b387e46278fea00512e4617e5",
            "75566eb5b7cd43a289721e70f2f0ba89",
            "ed453b81544745c3a50e89d80618560d"
          ]
        },
        "outputId": "f9fac9ab-4f85-424c-c97c-76244e81a188"
      },
      "source": [
        "mnist = torchvision.datasets.MNIST('./var',download = True)\n",
        "transform = transforms.Compose([transforms.ToTensor()])\n",
        "train = torchvision.datasets.MNIST('./var',train =True, transform = transform)\n",
        "trainloader = torch.utils.data.DataLoader(train,batch_size =256,shuffle=True)\n",
        "test = torchvision.datasets.MNIST('./var',train =False, transform = transform)\n",
        "testloader = torch.utils.data.DataLoader(test,batch_size =len(test),shuffle=True)"
      ],
      "execution_count": 3,
      "outputs": [
        {
          "output_type": "stream",
          "text": [
            "Downloading http://yann.lecun.com/exdb/mnist/train-images-idx3-ubyte.gz to ./var/MNIST/raw/train-images-idx3-ubyte.gz\n"
          ],
          "name": "stdout"
        },
        {
          "output_type": "display_data",
          "data": {
            "application/vnd.jupyter.widget-view+json": {
              "model_id": "b912f2fe655d4e3b8b6bfbe9b622f978",
              "version_minor": 0,
              "version_major": 2
            },
            "text/plain": [
              "HBox(children=(FloatProgress(value=1.0, bar_style='info', max=1.0), HTML(value='')))"
            ]
          },
          "metadata": {
            "tags": []
          }
        },
        {
          "output_type": "stream",
          "text": [
            "Extracting ./var/MNIST/raw/train-images-idx3-ubyte.gz to ./var/MNIST/raw\n",
            "Downloading http://yann.lecun.com/exdb/mnist/train-labels-idx1-ubyte.gz to ./var/MNIST/raw/train-labels-idx1-ubyte.gz\n"
          ],
          "name": "stdout"
        },
        {
          "output_type": "display_data",
          "data": {
            "application/vnd.jupyter.widget-view+json": {
              "model_id": "42112ccb73ef4b0f8755ab65db0e5f79",
              "version_minor": 0,
              "version_major": 2
            },
            "text/plain": [
              "HBox(children=(FloatProgress(value=1.0, bar_style='info', max=1.0), HTML(value='')))"
            ]
          },
          "metadata": {
            "tags": []
          }
        },
        {
          "output_type": "stream",
          "text": [
            "Extracting ./var/MNIST/raw/train-labels-idx1-ubyte.gz to ./var/MNIST/raw\n",
            "Downloading http://yann.lecun.com/exdb/mnist/t10k-images-idx3-ubyte.gz to ./var/MNIST/raw/t10k-images-idx3-ubyte.gz\n"
          ],
          "name": "stdout"
        },
        {
          "output_type": "display_data",
          "data": {
            "application/vnd.jupyter.widget-view+json": {
              "model_id": "83f180d7d3784b11b00a949a8cb029c2",
              "version_minor": 0,
              "version_major": 2
            },
            "text/plain": [
              "HBox(children=(FloatProgress(value=1.0, bar_style='info', max=1.0), HTML(value='')))"
            ]
          },
          "metadata": {
            "tags": []
          }
        },
        {
          "output_type": "stream",
          "text": [
            "Extracting ./var/MNIST/raw/t10k-images-idx3-ubyte.gz to ./var/MNIST/raw\n",
            "Downloading http://yann.lecun.com/exdb/mnist/t10k-labels-idx1-ubyte.gz to ./var/MNIST/raw/t10k-labels-idx1-ubyte.gz\n"
          ],
          "name": "stdout"
        },
        {
          "output_type": "display_data",
          "data": {
            "application/vnd.jupyter.widget-view+json": {
              "model_id": "d8748a492dbd476fb240ed1af44f4e70",
              "version_minor": 0,
              "version_major": 2
            },
            "text/plain": [
              "HBox(children=(FloatProgress(value=1.0, bar_style='info', max=1.0), HTML(value='')))"
            ]
          },
          "metadata": {
            "tags": []
          }
        },
        {
          "output_type": "stream",
          "text": [
            "Extracting ./var/MNIST/raw/t10k-labels-idx1-ubyte.gz to ./var/MNIST/raw\n",
            "Processing...\n",
            "Done!\n"
          ],
          "name": "stdout"
        },
        {
          "output_type": "stream",
          "text": [
            "/pytorch/torch/csrc/utils/tensor_numpy.cpp:141: UserWarning: The given NumPy array is not writeable, and PyTorch does not support non-writeable tensors. This means you can write to the underlying (supposedly non-writeable) NumPy array using the tensor. You may want to copy the array to protect its data or make it writeable before converting it to a tensor. This type of warning will be suppressed for the rest of this program.\n"
          ],
          "name": "stderr"
        }
      ]
    },
    {
      "cell_type": "code",
      "metadata": {
        "id": "eOh85ac3pRuz",
        "colab_type": "code",
        "colab": {
          "base_uri": "https://localhost:8080/",
          "height": 1000
        },
        "outputId": "5e108c12-c205-4e3b-c205-cb453e8732a4"
      },
      "source": [
        "net = SlimAlexNet(num_classes=10)\n",
        "loss_function = torch.nn.CrossEntropyLoss()\n",
        "optimizer = torch.optim.Adam(net.parameters())\n",
        "if torch.cuda.is_available():\n",
        "    device = torch.device('cuda')\n",
        "else:\n",
        "    device = torch.device('cpu')\n",
        "net.to(device)\n",
        "\n",
        "best_loss = float('inf')\n",
        "best_epoch = 1\n",
        "best_acc = 0\n",
        "for epoch in range(50):\n",
        "    totoal_loss = 0\n",
        "    net.train()\n",
        "    for inputs,outputs in trainloader:\n",
        "        inputs = inputs.to(device)\n",
        "        outputs = outputs.to(device)\n",
        "        optimizer.zero_grad()\n",
        "        results = net(inputs)\n",
        "        loss = loss_function(results,outputs)\n",
        "        totoal_loss += loss.item()\n",
        "        loss.backward()\n",
        "        optimizer.step()\n",
        "\n",
        "        #if loss < best_loss:\n",
        "            #best_loss = loss\n",
        "           # best_epoch = epoch\n",
        "            \n",
        "            #torch.save(net.state_dict(), 'best_model.pt')\n",
        "\n",
        "    print (f'Epoch: {epoch+1:02} |Loss:{totoal_loss/len(trainloader)}')\n",
        "\n",
        "    net.eval()\n",
        "    with torch.no_grad():\n",
        "        for inputs,actual in testloader:\n",
        "            inputs = inputs.to(device)  \n",
        "            results = net(inputs).argmax(dim=1).to('cpu').numpy()\n",
        "            accuracy = sklearn.metrics.accuracy_score(actual,results)\n",
        "    \n",
        "        if accuracy >= best_acc:\n",
        "            best_acc = accuracy\n",
        "            best_epoch = epoch\n",
        "            torch.save(net.state_dict(), 'best_model.pt')\n",
        "            \n",
        "        print(\"curr_val_accuracy:\",accuracy, \"epoch:\", epoch+1, \"best_acc\",best_acc,\"best_epoch\",best_epoch)\n",
        "\n"
      ],
      "execution_count": 17,
      "outputs": [
        {
          "output_type": "stream",
          "text": [
            "Epoch: 01 |Loss:0.6746256555331515\n",
            "val_accuracy: 0.9747 best_epoch: 1\n",
            "Epoch: 02 |Loss:0.12380847521918885\n",
            "val_accuracy: 0.9811 best_epoch: 2\n",
            "Epoch: 03 |Loss:0.086896698398793\n",
            "val_accuracy: 0.9865 best_epoch: 3\n",
            "Epoch: 04 |Loss:0.06547744592374309\n",
            "val_accuracy: 0.9856 best_epoch: 4\n",
            "Epoch: 05 |Loss:0.052293259630653455\n",
            "val_accuracy: 0.9874 best_epoch: 5\n",
            "Epoch: 06 |Loss:0.04439389620451851\n",
            "val_accuracy: 0.9909 best_epoch: 6\n",
            "Epoch: 07 |Loss:0.037324308604002\n",
            "val_accuracy: 0.9884 best_epoch: 7\n",
            "Epoch: 08 |Loss:0.03600852533065258\n",
            "val_accuracy: 0.9899 best_epoch: 8\n",
            "Epoch: 09 |Loss:0.03141789478348925\n",
            "val_accuracy: 0.9892 best_epoch: 9\n",
            "Epoch: 10 |Loss:0.029547412832208138\n",
            "val_accuracy: 0.9896 best_epoch: 10\n",
            "Epoch: 11 |Loss:0.02560586930906519\n",
            "val_accuracy: 0.9904 best_epoch: 11\n",
            "Epoch: 12 |Loss:0.02235452180450901\n",
            "val_accuracy: 0.9895 best_epoch: 12\n",
            "Epoch: 13 |Loss:0.023446717089478007\n",
            "val_accuracy: 0.9917 best_epoch: 13\n",
            "Epoch: 14 |Loss:0.021682655010768707\n",
            "val_accuracy: 0.9895 best_epoch: 14\n",
            "Epoch: 15 |Loss:0.018731256501075436\n",
            "val_accuracy: 0.9919 best_epoch: 15\n",
            "Epoch: 16 |Loss:0.01802972577551895\n",
            "val_accuracy: 0.99 best_epoch: 16\n",
            "Epoch: 17 |Loss:0.019087902393112793\n",
            "val_accuracy: 0.9929 best_epoch: 17\n",
            "Epoch: 18 |Loss:0.015132414123558618\n",
            "val_accuracy: 0.9924 best_epoch: 18\n",
            "Epoch: 19 |Loss:0.015628681676660445\n",
            "val_accuracy: 0.9917 best_epoch: 19\n",
            "Epoch: 20 |Loss:0.0176229408942163\n",
            "val_accuracy: 0.9922 best_epoch: 20\n",
            "Epoch: 21 |Loss:0.012418463291164408\n",
            "val_accuracy: 0.9904 best_epoch: 21\n",
            "Epoch: 22 |Loss:0.01572517506144148\n",
            "val_accuracy: 0.992 best_epoch: 22\n",
            "Epoch: 23 |Loss:0.011226946519727403\n",
            "val_accuracy: 0.9921 best_epoch: 23\n",
            "Epoch: 24 |Loss:0.013175956027810165\n",
            "val_accuracy: 0.9909 best_epoch: 24\n",
            "Epoch: 25 |Loss:0.01149506862572533\n",
            "val_accuracy: 0.9906 best_epoch: 25\n",
            "Epoch: 26 |Loss:0.01260500604762359\n",
            "val_accuracy: 0.9922 best_epoch: 26\n",
            "Epoch: 27 |Loss:0.01120367388939485\n",
            "val_accuracy: 0.9912 best_epoch: 27\n",
            "Epoch: 28 |Loss:0.009628281586288296\n",
            "val_accuracy: 0.9916 best_epoch: 28\n",
            "Epoch: 29 |Loss:0.012129442562210433\n",
            "val_accuracy: 0.9919 best_epoch: 29\n",
            "Epoch: 30 |Loss:0.012541489027678333\n",
            "val_accuracy: 0.9904 best_epoch: 30\n",
            "Epoch: 31 |Loss:0.011025990236629831\n",
            "val_accuracy: 0.9931 best_epoch: 31\n",
            "Epoch: 32 |Loss:0.008373424125478623\n",
            "val_accuracy: 0.9927 best_epoch: 32\n",
            "Epoch: 33 |Loss:0.009116012064066339\n",
            "val_accuracy: 0.9907 best_epoch: 33\n",
            "Epoch: 34 |Loss:0.0068522925369758556\n",
            "val_accuracy: 0.9913 best_epoch: 34\n",
            "Epoch: 35 |Loss:0.009870550216750262\n",
            "val_accuracy: 0.9903 best_epoch: 35\n",
            "Epoch: 36 |Loss:0.009475398561025554\n",
            "val_accuracy: 0.9927 best_epoch: 36\n",
            "Epoch: 37 |Loss:0.006918119118013915\n",
            "val_accuracy: 0.9914 best_epoch: 37\n",
            "Epoch: 38 |Loss:0.005277279199675676\n",
            "val_accuracy: 0.9925 best_epoch: 38\n",
            "Epoch: 39 |Loss:0.010696637181149042\n",
            "val_accuracy: 0.9922 best_epoch: 39\n",
            "Epoch: 40 |Loss:0.006880693709071567\n",
            "val_accuracy: 0.9922 best_epoch: 40\n",
            "Epoch: 41 |Loss:0.006369124789520395\n",
            "val_accuracy: 0.9923 best_epoch: 41\n",
            "Epoch: 42 |Loss:0.006038203641977854\n",
            "val_accuracy: 0.992 best_epoch: 42\n",
            "Epoch: 43 |Loss:0.005524873154911589\n",
            "val_accuracy: 0.9911 best_epoch: 43\n",
            "Epoch: 44 |Loss:0.0075756834215544005\n",
            "val_accuracy: 0.9906 best_epoch: 44\n",
            "Epoch: 45 |Loss:0.007579993130639196\n",
            "val_accuracy: 0.9919 best_epoch: 45\n",
            "Epoch: 46 |Loss:0.0062451061128856655\n",
            "val_accuracy: 0.9923 best_epoch: 46\n",
            "Epoch: 47 |Loss:0.008411970508700989\n",
            "val_accuracy: 0.9924 best_epoch: 47\n",
            "Epoch: 48 |Loss:0.006536622213675304\n",
            "val_accuracy: 0.991 best_epoch: 48\n",
            "Epoch: 49 |Loss:0.006400339206323978\n",
            "val_accuracy: 0.9924 best_epoch: 49\n",
            "Epoch: 50 |Loss:0.006943652549996338\n",
            "val_accuracy: 0.9912 best_epoch: 50\n"
          ],
          "name": "stdout"
        }
      ]
    },
    {
      "cell_type": "code",
      "metadata": {
        "id": "8w79vHWfsbwP",
        "colab_type": "code",
        "colab": {
          "base_uri": "https://localhost:8080/",
          "height": 330
        },
        "outputId": "e4b4fe07-895b-419d-f6ff-a1a6d31ee3bf"
      },
      "source": [
        "net = SlimAlexNet(num_classes=10)\n",
        "net.to(device)\n",
        "net.load_state_dict(torch.load('best_model.pt'))\n",
        "\n",
        "for inputs,actual in testloader:\n",
        "    inputs = inputs.to(device)\n",
        "    results = net(inputs).argmax(dim=1).to('cpu').numpy()\n",
        "    accuracy = sklearn.metrics.accuracy_score(actual,results)\n",
        "    print(accuracy)\n",
        "print(sklearn.metrics.classification_report(actual,results))"
      ],
      "execution_count": 18,
      "outputs": [
        {
          "output_type": "stream",
          "text": [
            "0.9918\n",
            "              precision    recall  f1-score   support\n",
            "\n",
            "           0       1.00      0.99      0.99       980\n",
            "           1       1.00      1.00      1.00      1135\n",
            "           2       1.00      0.99      0.99      1032\n",
            "           3       1.00      0.99      0.99      1010\n",
            "           4       0.99      1.00      0.99       982\n",
            "           5       0.98      0.99      0.98       892\n",
            "           6       0.99      0.99      0.99       958\n",
            "           7       0.98      1.00      0.99      1028\n",
            "           8       0.99      0.99      0.99       974\n",
            "           9       0.99      0.99      0.99      1009\n",
            "\n",
            "    accuracy                           0.99     10000\n",
            "   macro avg       0.99      0.99      0.99     10000\n",
            "weighted avg       0.99      0.99      0.99     10000\n",
            "\n"
          ],
          "name": "stdout"
        }
      ]
    },
    {
      "cell_type": "code",
      "metadata": {
        "id": "5CujAyJYnXLa",
        "colab_type": "code",
        "colab": {
          "base_uri": "https://localhost:8080/",
          "height": 52
        },
        "outputId": "a8935e2e-783e-4565-891a-c9b4f8cd63e2"
      },
      "source": [
        "net = SlimAlexNet(num_classes=10)\n",
        "net.to(device)\n",
        "net.load_state_dict(torch.load('best_model.pt'))\n",
        "\n",
        "from torchvision.utils import save_image\n",
        "import torch\n",
        "import torchvision\n",
        "#save_image([0][0][0], 'img1.png')\n",
        "\n",
        "from PIL import Image\n",
        "im = Image.open(\"im3.png\").convert('L')\n",
        "im = im.resize((28,28),Image.NEAREST)\n",
        "actual =  3\n",
        "actual = np.array(actual)\n",
        "inputs = transform(im)\n",
        "inputs = inputs.to(device)\n",
        "#print(inputs.size())\n",
        "results = net(inputs.unsqueeze(0)).argmax(dim=1).to('cpu').numpy()\n",
        "#print(type(results),type(actual),actual)\n",
        "print(\"result:\", results[0])\n",
        "print(\"actual:\", actual)\n",
        "#accuracy = sklearn.metrics.accuracy_score(actual,results)\n",
        "#print(accuracy)\n",
        "#print(sklearn.metrics.classification_report(actual,results))"
      ],
      "execution_count": 19,
      "outputs": [
        {
          "output_type": "stream",
          "text": [
            "result: 8\n",
            "actual: 3\n"
          ],
          "name": "stdout"
        }
      ]
    },
    {
      "cell_type": "code",
      "metadata": {
        "id": "d3a00eC4x7nn",
        "colab_type": "code",
        "colab": {
          "base_uri": "https://localhost:8080/",
          "height": 34
        },
        "outputId": "5a454411-5f01-470a-97f1-9226ae6fbb4b"
      },
      "source": [
        "inputs[0,0].size()"
      ],
      "execution_count": null,
      "outputs": [
        {
          "output_type": "execute_result",
          "data": {
            "text/plain": [
              "torch.Size([28])"
            ]
          },
          "metadata": {
            "tags": []
          },
          "execution_count": 30
        }
      ]
    },
    {
      "cell_type": "code",
      "metadata": {
        "id": "4G3m9gImiaIl",
        "colab_type": "code",
        "colab": {}
      },
      "source": [
        "from torchvision.utils import save_image\n",
        "import torch\n",
        "import torchvision\n",
        "save_image(inputs[0,0], 'img1.png')"
      ],
      "execution_count": null,
      "outputs": []
    },
    {
      "cell_type": "code",
      "metadata": {
        "id": "hsTEcH6Ck58t",
        "colab_type": "code",
        "colab": {}
      },
      "source": [
        "from PIL import Image\n",
        "im = Image.open(\"img1.png\")\n",
        "\n"
      ],
      "execution_count": null,
      "outputs": []
    },
    {
      "cell_type": "code",
      "metadata": {
        "id": "F5voyyqPlatr",
        "colab_type": "code",
        "colab": {
          "base_uri": "https://localhost:8080/",
          "height": 34
        },
        "outputId": "a17d5d7b-c8bc-4e95-f9c5-70ff6260161a"
      },
      "source": [
        "im.size"
      ],
      "execution_count": null,
      "outputs": [
        {
          "output_type": "execute_result",
          "data": {
            "text/plain": [
              "(28, 28)"
            ]
          },
          "metadata": {
            "tags": []
          },
          "execution_count": 24
        }
      ]
    },
    {
      "cell_type": "code",
      "metadata": {
        "id": "ij4w3mhllenr",
        "colab_type": "code",
        "colab": {}
      },
      "source": [
        "inputs = transform(im)"
      ],
      "execution_count": null,
      "outputs": []
    },
    {
      "cell_type": "code",
      "metadata": {
        "id": "lzINZrKlmvWP",
        "colab_type": "code",
        "colab": {
          "base_uri": "https://localhost:8080/",
          "height": 34
        },
        "outputId": "f272387c-7763-40d1-d7da-3695fae9c1d2"
      },
      "source": [
        "inputs.size()"
      ],
      "execution_count": null,
      "outputs": [
        {
          "output_type": "execute_result",
          "data": {
            "text/plain": [
              "torch.Size([3, 28, 28])"
            ]
          },
          "metadata": {
            "tags": []
          },
          "execution_count": 28
        }
      ]
    },
    {
      "cell_type": "code",
      "metadata": {
        "id": "LAs1BDmMno6s",
        "colab_type": "code",
        "colab": {
          "base_uri": "https://localhost:8080/",
          "height": 34
        },
        "outputId": "39808aa6-d2e8-42e7-f756-d3023da3a225"
      },
      "source": [
        "test[0][0][0].size()"
      ],
      "execution_count": null,
      "outputs": [
        {
          "output_type": "execute_result",
          "data": {
            "text/plain": [
              "torch.Size([28, 28])"
            ]
          },
          "metadata": {
            "tags": []
          },
          "execution_count": 41
        }
      ]
    },
    {
      "cell_type": "code",
      "metadata": {
        "id": "OtEEMZ3uozY0",
        "colab_type": "code",
        "colab": {}
      },
      "source": [
        ""
      ],
      "execution_count": null,
      "outputs": []
    }
  ]
}